{
 "cells": [
  {
   "cell_type": "code",
   "execution_count": 1,
   "metadata": {},
   "outputs": [],
   "source": [
    "import pandas as pd\n",
    "import seaborn as sns\n",
    "import sklearn"
   ]
  },
  {
   "cell_type": "code",
   "execution_count": 2,
   "metadata": {},
   "outputs": [
    {
     "name": "stdout",
     "output_type": "stream",
     "text": [
      "keras version  2.0.4\n"
     ]
    }
   ],
   "source": [
    "from __future__ import print_function\n",
    "from matplotlib import pyplot as plt\n",
    "import numpy as np\n",
    "import pandas as pd\n",
    "import seaborn as sns\n",
    "import coremltools\n",
    "from scipy import stats\n",
    "import os\n",
    "from IPython.display import display, HTML\n",
    "from sklearn.model_selection import train_test_split\n",
    "from sklearn import metrics\n",
    "from sklearn.metrics import classification_report\n",
    "from sklearn import preprocessing\n",
    "\n",
    "import tensorflow as tf\n",
    "import keras\n",
    "from keras.models import Sequential\n",
    "from keras.layers import Dense, Dropout, Flatten, Reshape\n",
    "from keras.layers import Conv1D, MaxPooling1D, GlobalAveragePooling1D\n",
    "from keras.utils import np_utils\n",
    "pd.options.display.float_format = '{:.1f}'.format\n",
    "sns.set() # Default seaborn look and feel\n",
    "plt.style.use('ggplot')\n",
    "print('keras version ', keras.__version__)"
   ]
  },
  {
   "cell_type": "code",
   "execution_count": 132,
   "metadata": {},
   "outputs": [],
   "source": [
    "Goal4 = pd.read_excel('Goal4.xlsx')"
   ]
  },
  {
   "cell_type": "code",
   "execution_count": 133,
   "metadata": {},
   "outputs": [
    {
     "data": {
      "text/plain": [
       "Index(['Goal', 'Target', 'Indicator', 'SeriesCode', 'SeriesDescription',\n",
       "       'GeoAreaCode', 'GeoAreaName', 'TimePeriod', 'Value', 'Time_Detail',\n",
       "       'TimeCoverage', 'UpperBound', 'LowerBound', 'BasePeriod', 'Source',\n",
       "       'GeoInfoUrl', 'FootNote', 'Age', 'Education level', 'Location',\n",
       "       'Nature', 'Quantile', 'Reporting Type', 'Sex', 'Type of skill',\n",
       "       'Units'],\n",
       "      dtype='object')"
      ]
     },
     "execution_count": 133,
     "metadata": {},
     "output_type": "execute_result"
    }
   ],
   "source": [
    "Goal4.columns"
   ]
  },
  {
   "cell_type": "code",
   "execution_count": 134,
   "metadata": {},
   "outputs": [],
   "source": [
    "#Country of focus\n",
    "countries = ['Afghanistan', 'Albania', 'Algeria', 'Angola', 'Antigua and Barbuda', 'Argentina', 'Armenia', 'Azerbaijan', 'Bangladesh', 'Belarus', 'Belize', 'Benin', 'Bhutan','Bolivia', 'Bosnia and Herzegovina', 'Botswana', 'Brazil', 'Bulgaria', 'Burkina Faso', 'Burundi', 'Cabo Verde', 'Cambodia', 'Cameroon', 'Central African Republic', 'Chad', 'Chile', 'China', 'Colombia', 'Comoros', 'Congo','Congo, Democratic Republic', 'Costa Rica', 'Croatia', \"Côte d'Ivoire\", 'Djibouti', 'Dominica', 'Dominican Republic', 'Ecuador', 'Egypt', 'El Salvador', 'Equatorial Guinea', 'Eritrea', 'Eswatini', 'Ethiopia', 'Fiji', 'Gabon', 'Gambia', 'Georgia', 'Ghana', 'Grenada', 'Guatemala', 'Guinea', 'Guinea-Bissau', 'Guyana', 'Haiti', 'Honduras', 'India', 'Indonesia', 'Iran (Islamic Republic of)', 'Iraq', 'Jamaica', 'Jordan', 'Kazakhstan', 'Kenya', 'Kiribati', 'Kosovo', 'Kyrgyzstan', \"Lao People's Democratic Republic\", 'Lebanon', 'Lesotho', 'Liberia', 'Libya', 'Madagascar', 'Malawi', 'Malaysia', 'Maldives', 'Mali', 'Marshall Islands', 'Mauritania', 'Mauritius', 'Mexico', 'Micronesia (Federated States of)','Moldova', 'Mongolia', 'Montenegro', 'Morocco', 'Mozambique', 'Myanmar', 'Namibia', 'Nauru', 'Nepal', 'Nicaragua', 'Niger', 'Nigeria', 'North Macedonia', 'Pakistan', 'Palau', 'Panama', 'Papua New Guinea', 'Paraguay', 'Peru', 'Philippines', 'Poland', 'Romania', 'Russian Federation', 'Rwanda', 'Saint Kitts and Nevis', 'Saint Lucia', 'Saint Vincent and the Grenadines', 'Samoa', 'Sao Tome and Principe', 'Senegal', 'Serbia', 'Seychelles', 'Sierra Leone', 'Solomon Islands', 'Somalia', 'South Africa', 'South Sudan', 'Sri Lanka', 'Sudan', 'Suriname', 'Syrian Arab Republic', 'Tajikistan', 'Thailand', 'Timor-Leste', 'Togo', 'Tonga', 'Trinidad and Tobago', 'Tunisia', 'Turkey', 'Turkmenistan', 'Tuvalu', 'Uganda', 'Ukraine', 'United Republic of Tanzania', 'Uruguay', 'Uzbekistan', 'Vanuatu','Venezuela', 'Vietnam', 'Yemen', 'Zambia', 'Zimbabwe']"
   ]
  },
  {
   "cell_type": "code",
   "execution_count": 135,
   "metadata": {},
   "outputs": [
    {
     "name": "stdout",
     "output_type": "stream",
     "text": [
      "0 Afghanistan\n",
      "1 Albania\n",
      "2 Algeria\n",
      "3 Angola\n",
      "4 Antigua and Barbuda\n",
      "5 Argentina\n",
      "6 Armenia\n",
      "7 Azerbaijan\n",
      "8 Bangladesh\n",
      "9 Belarus\n",
      "10 Belize\n",
      "11 Benin\n",
      "12 Bhutan\n",
      "13 Bolivia\n",
      "14 Bosnia and Herzegovina\n",
      "15 Botswana\n",
      "16 Brazil\n",
      "17 Bulgaria\n",
      "18 Burkina Faso\n",
      "19 Burundi\n",
      "20 Cabo Verde\n",
      "21 Cambodia\n",
      "22 Cameroon\n",
      "23 Central African Republic\n",
      "24 Chad\n",
      "25 Chile\n",
      "26 China\n",
      "27 Colombia\n",
      "28 Comoros\n",
      "29 Congo\n",
      "30 Congo, Democratic Republic\n",
      "31 Costa Rica\n",
      "32 Croatia\n",
      "33 Côte d'Ivoire\n",
      "34 Djibouti\n",
      "35 Dominica\n",
      "36 Dominican Republic\n",
      "37 Ecuador\n",
      "38 Egypt\n",
      "39 El Salvador\n",
      "40 Equatorial Guinea\n",
      "41 Eritrea\n",
      "42 Eswatini\n",
      "43 Ethiopia\n",
      "44 Fiji\n",
      "45 Gabon\n",
      "46 Gambia\n",
      "47 Georgia\n",
      "48 Ghana\n",
      "49 Grenada\n",
      "50 Guatemala\n",
      "51 Guinea\n",
      "52 Guinea-Bissau\n",
      "53 Guyana\n",
      "54 Haiti\n",
      "55 Honduras\n",
      "56 India\n",
      "57 Indonesia\n",
      "58 Iran (Islamic Republic of)\n",
      "59 Iraq\n",
      "60 Jamaica\n",
      "61 Jordan\n",
      "62 Kazakhstan\n",
      "63 Kenya\n",
      "64 Kiribati\n",
      "65 Kosovo\n",
      "66 Kyrgyzstan\n",
      "67 Lao People's Democratic Republic\n",
      "68 Lebanon\n",
      "69 Lesotho\n",
      "70 Liberia\n",
      "71 Libya\n",
      "72 Madagascar\n",
      "73 Malawi\n",
      "74 Malaysia\n",
      "75 Maldives\n",
      "76 Mali\n",
      "77 Marshall Islands\n",
      "78 Mauritania\n",
      "79 Mauritius\n",
      "80 Mexico\n",
      "81 Micronesia (Federated States of)\n",
      "82 Moldova\n",
      "83 Mongolia\n",
      "84 Montenegro\n",
      "85 Morocco\n",
      "86 Mozambique\n",
      "87 Myanmar\n",
      "88 Namibia\n",
      "89 Nauru\n",
      "90 Nepal\n",
      "91 Nicaragua\n",
      "92 Niger\n",
      "93 Nigeria\n",
      "94 North Macedonia\n",
      "95 Pakistan\n",
      "96 Palau\n",
      "97 Panama\n",
      "98 Papua New Guinea\n",
      "99 Paraguay\n",
      "100 Peru\n",
      "101 Philippines\n",
      "102 Poland\n",
      "103 Romania\n",
      "104 Russian Federation\n",
      "105 Rwanda\n",
      "106 Saint Kitts and Nevis\n",
      "107 Saint Lucia\n",
      "108 Saint Vincent and the Grenadines\n",
      "109 Samoa\n",
      "110 Sao Tome and Principe\n",
      "111 Senegal\n",
      "112 Serbia\n",
      "113 Seychelles\n",
      "114 Sierra Leone\n",
      "115 Solomon Islands\n",
      "116 Somalia\n",
      "117 South Africa\n",
      "118 South Sudan\n",
      "119 Sri Lanka\n",
      "120 Sudan\n",
      "121 Suriname\n",
      "122 Syrian Arab Republic\n",
      "123 Tajikistan\n",
      "124 Thailand\n",
      "125 Timor-Leste\n",
      "126 Togo\n",
      "127 Tonga\n",
      "128 Trinidad and Tobago\n",
      "129 Tunisia\n",
      "130 Turkey\n",
      "131 Turkmenistan\n",
      "132 Tuvalu\n",
      "133 Uganda\n",
      "134 Ukraine\n",
      "135 United Republic of Tanzania\n",
      "136 Uruguay\n",
      "137 Uzbekistan\n",
      "138 Vanuatu\n",
      "139 Venezuela\n",
      "140 Vietnam\n",
      "141 Yemen\n",
      "142 Zambia\n",
      "143 Zimbabwe\n"
     ]
    }
   ],
   "source": [
    "for i,j in enumerate(countries):\n",
    "    print(i,j)"
   ]
  },
  {
   "cell_type": "code",
   "execution_count": 6,
   "metadata": {},
   "outputs": [],
   "source": [
    "t1=Goal4[Goal4['Target']=='4.1']\n",
    "t2=Goal4[Goal4['Target']=='4.2']\n",
    "t3=Goal4[Goal4['Target']=='4.3']\n",
    "t4=Goal4[Goal4['Target']=='4.4']\n",
    "t5=Goal4[Goal4['Target']=='4.5']\n",
    "t6=Goal4[Goal4['Target']=='4.6']\n",
    "t7=Goal4[Goal4['Target']=='4.a']\n",
    "t8=Goal4[Goal4['Target']=='4.b']\n",
    "t9=Goal4[Goal4['Target']=='4.c']"
   ]
  },
  {
   "cell_type": "code",
   "execution_count": 7,
   "metadata": {},
   "outputs": [
    {
     "name": "stdout",
     "output_type": "stream",
     "text": [
      "(80340, 26)\n",
      "(6127, 26)\n",
      "(1009, 26)\n",
      "(5929, 26)\n",
      "(5929, 26)\n",
      "(71763, 26)\n",
      "(237, 26)\n",
      "(10546, 26)\n",
      "(2276, 26)\n",
      "(13535, 26)\n"
     ]
    }
   ],
   "source": [
    "T=[t1, t2, t3, t4, t4, t5, t6, t7, t8, t9]\n",
    "for each in T:\n",
    "    print(each.shape)"
   ]
  },
  {
   "cell_type": "code",
   "execution_count": 10,
   "metadata": {},
   "outputs": [],
   "source": [
    "t3=t3.drop(columns=[\"Goal\", \"Target\", \"Indicator\", \"SeriesCode\", \"SeriesDescription\", \"GeoAreaCode\", \"TimeCoverage\", \"UpperBound\", \"LowerBound\", \"BasePeriod\", \"GeoInfoUrl\", \"FootNote\", \"Quantile\", \"Location\", \"Education level\", \"Nature\",\"Type of skill\", \"Units\" ])"
   ]
  },
  {
   "cell_type": "code",
   "execution_count": 11,
   "metadata": {},
   "outputs": [
    {
     "name": "stderr",
     "output_type": "stream",
     "text": [
      "/home/arshiyakhan/.local/lib/python3.5/site-packages/IPython/core/interactiveshell.py:2718: DtypeWarning: Columns (1,9,17,19,21,24) have mixed types. Specify dtype option on import or set low_memory=False.\n",
      "  interactivity=interactivity, compiler=compiler, result=result)\n"
     ]
    }
   ],
   "source": [
    "dd=pd.read_csv(\"new_data.csv\")"
   ]
  },
  {
   "cell_type": "code",
   "execution_count": 12,
   "metadata": {},
   "outputs": [],
   "source": [
    "t3[\"UpperBound\"]=dd[\"UpperBound\"]\n",
    "t3[\"LowerBound\"]=dd[\"LowerBound\"]"
   ]
  },
  {
   "cell_type": "code",
   "execution_count": 17,
   "metadata": {},
   "outputs": [
    {
     "name": "stdout",
     "output_type": "stream",
     "text": [
      "<class 'pandas.core.frame.DataFrame'>\n",
      "Int64Index: 1009 entries, 86467 to 87475\n",
      "Data columns (total 9 columns):\n",
      "GeoAreaName       1009 non-null object\n",
      "TimePeriod        1009 non-null int64\n",
      "Value             1009 non-null float64\n",
      "Time_Detail       1009 non-null object\n",
      "Source            1009 non-null object\n",
      "Reporting Type    1009 non-null object\n",
      "Sex               1009 non-null object\n",
      "UpperBound        1009 non-null float64\n",
      "LowerBound        1009 non-null float64\n",
      "dtypes: float64(3), int64(1), object(5)\n",
      "memory usage: 78.8+ KB\n"
     ]
    }
   ],
   "source": [
    "t3.info()"
   ]
  },
  {
   "cell_type": "code",
   "execution_count": 14,
   "metadata": {},
   "outputs": [
    {
     "data": {
      "text/plain": [
       "(1009, 10)"
      ]
     },
     "execution_count": 14,
     "metadata": {},
     "output_type": "execute_result"
    }
   ],
   "source": [
    "t3.shape"
   ]
  },
  {
   "cell_type": "code",
   "execution_count": null,
   "metadata": {},
   "outputs": [],
   "source": [
    "t3['Age']"
   ]
  },
  {
   "cell_type": "code",
   "execution_count": 16,
   "metadata": {},
   "outputs": [],
   "source": [
    "t3=t3.drop(columns=[\"Age\"])"
   ]
  },
  {
   "cell_type": "code",
   "execution_count": 18,
   "metadata": {},
   "outputs": [],
   "source": [
    "Y=t3['TimePeriod']"
   ]
  },
  {
   "cell_type": "code",
   "execution_count": 115,
   "metadata": {},
   "outputs": [
    {
     "name": "stdout",
     "output_type": "stream",
     "text": [
      "[2007, 2008, 2009, 2010, 2013, 2016, 2004, 2011, 2005, 2006, 2012, 2014, 2017, 2015, 2000, 2001, 2002, 2003, 2018]\n"
     ]
    }
   ],
   "source": [
    "LABELS=list(t3['TimePeriod'].unique())\n",
    "print(LABELS)"
   ]
  },
  {
   "cell_type": "code",
   "execution_count": 116,
   "metadata": {},
   "outputs": [
    {
     "data": {
      "text/plain": [
       "0"
      ]
     },
     "execution_count": 116,
     "metadata": {},
     "output_type": "execute_result"
    }
   ],
   "source": [
    "Y.isnull().sum()"
   ]
  },
  {
   "cell_type": "code",
   "execution_count": 117,
   "metadata": {},
   "outputs": [],
   "source": [
    "LABEL = 'YearEncoded'"
   ]
  },
  {
   "cell_type": "code",
   "execution_count": 118,
   "metadata": {},
   "outputs": [],
   "source": [
    "le = preprocessing.LabelEncoder()"
   ]
  },
  {
   "cell_type": "code",
   "execution_count": 119,
   "metadata": {},
   "outputs": [],
   "source": [
    "t3[LABEL] = le.fit_transform(t3['TimePeriod'].values.ravel())"
   ]
  },
  {
   "cell_type": "code",
   "execution_count": 120,
   "metadata": {},
   "outputs": [
    {
     "data": {
      "text/plain": [
       "(1009, 185)"
      ]
     },
     "execution_count": 120,
     "metadata": {},
     "output_type": "execute_result"
    }
   ],
   "source": [
    "X.shape"
   ]
  },
  {
   "cell_type": "code",
   "execution_count": 121,
   "metadata": {},
   "outputs": [],
   "source": [
    "Y=t3[LABEL]"
   ]
  },
  {
   "cell_type": "code",
   "execution_count": 122,
   "metadata": {},
   "outputs": [],
   "source": [
    "X=t3\n",
    "X=X.drop(columns=['TimePeriod'])"
   ]
  },
  {
   "cell_type": "code",
   "execution_count": 33,
   "metadata": {},
   "outputs": [],
   "source": [
    "dummy_df = pd.get_dummies(X)"
   ]
  },
  {
   "cell_type": "code",
   "execution_count": 123,
   "metadata": {},
   "outputs": [
    {
     "data": {
      "text/plain": [
       "(1009, 9)"
      ]
     },
     "execution_count": 123,
     "metadata": {},
     "output_type": "execute_result"
    }
   ],
   "source": [
    "X.shape"
   ]
  },
  {
   "cell_type": "code",
   "execution_count": 124,
   "metadata": {},
   "outputs": [],
   "source": [
    "X=dummy_df"
   ]
  },
  {
   "cell_type": "code",
   "execution_count": 125,
   "metadata": {},
   "outputs": [],
   "source": [
    "X_train, X_test, y_train, y_test = train_test_split(X, Y, test_size = .25, random_state = 33)"
   ]
  },
  {
   "cell_type": "code",
   "execution_count": 126,
   "metadata": {},
   "outputs": [
    {
     "data": {
      "text/plain": [
       "LogisticRegression(C=1000000000000.0, class_weight=None, dual=False,\n",
       "          fit_intercept=False, intercept_scaling=1, max_iter=100,\n",
       "          multi_class='ovr', n_jobs=1, penalty='l2', random_state=None,\n",
       "          solver='liblinear', tol=0.0001, verbose=0, warm_start=False)"
      ]
     },
     "execution_count": 126,
     "metadata": {},
     "output_type": "execute_result"
    }
   ],
   "source": [
    "logreg = LogisticRegression(fit_intercept = False, C = 1e12, solver = 'liblinear')\n",
    "# Fit the model to our X and y training sets\n",
    "logreg.fit(X_train, y_train)"
   ]
  },
  {
   "cell_type": "code",
   "execution_count": 127,
   "metadata": {},
   "outputs": [],
   "source": [
    "from sklearn.preprocessing import MinMaxScaler\n",
    "from sklearn.model_selection import train_test_split\n",
    "from sklearn.linear_model import LogisticRegression\n",
    "from sklearn.metrics import precision_score, recall_score, accuracy_score, f1_score, roc_curve, auc, confusion_matrix\n"
   ]
  },
  {
   "cell_type": "code",
   "execution_count": 128,
   "metadata": {},
   "outputs": [],
   "source": [
    "y_hat_train = logreg.predict(X_train)\n",
    "y_hat_test = logreg.predict(X_test)"
   ]
  },
  {
   "cell_type": "code",
   "execution_count": 129,
   "metadata": {},
   "outputs": [
    {
     "name": "stdout",
     "output_type": "stream",
     "text": [
      "0    756\n",
      "Name: YearEncoded, dtype: int64\n",
      "----------------------------------\n",
      "0   1.0\n",
      "Name: YearEncoded, dtype: float64\n"
     ]
    }
   ],
   "source": [
    "residuals = np.abs(y_train - y_hat_train)\n",
    "# Print value counts of our predicted values \n",
    "print(pd.Series(residuals).value_counts())\n",
    "print('----------------------------------')\n",
    "# Print normalized value counts of our predicted values\n",
    "print(pd.Series(residuals).value_counts(normalize = True))"
   ]
  },
  {
   "cell_type": "code",
   "execution_count": 130,
   "metadata": {},
   "outputs": [
    {
     "name": "stdout",
     "output_type": "stream",
     "text": [
      "0    253\n",
      "Name: YearEncoded, dtype: int64\n",
      "---------------------------------\n",
      "0   1.0\n",
      "Name: YearEncoded, dtype: float64\n"
     ]
    }
   ],
   "source": [
    "# Repeat previous step with test data\n",
    "residuals = np.abs(y_test - y_hat_test)\n",
    "print(pd.Series(residuals).value_counts())\n",
    "print('---------------------------------')\n",
    "print(pd.Series(residuals).value_counts(normalize = True))"
   ]
  },
  {
   "cell_type": "code",
   "execution_count": 131,
   "metadata": {},
   "outputs": [
    {
     "name": "stdout",
     "output_type": "stream",
     "text": [
      "Confusion Matrix: \n",
      " [[ 3  0  0  0  0  0  0  0  0  0  0  0  0  0  0  0  0  0  0]\n",
      " [ 0  5  0  0  0  0  0  0  0  0  0  0  0  0  0  0  0  0  0]\n",
      " [ 0  0  7  0  0  0  0  0  0  0  0  0  0  0  0  0  0  0  0]\n",
      " [ 0  0  0  4  0  0  0  0  0  0  0  0  0  0  0  0  0  0  0]\n",
      " [ 0  0  0  0 10  0  0  0  0  0  0  0  0  0  0  0  0  0  0]\n",
      " [ 0  0  0  0  0  5  0  0  0  0  0  0  0  0  0  0  0  0  0]\n",
      " [ 0  0  0  0  0  0  3  0  0  0  0  0  0  0  0  0  0  0  0]\n",
      " [ 0  0  0  0  0  0  0 32  0  0  0  0  0  0  0  0  0  0  0]\n",
      " [ 0  0  0  0  0  0  0  0  7  0  0  0  0  0  0  0  0  0  0]\n",
      " [ 0  0  0  0  0  0  0  0  0  7  0  0  0  0  0  0  0  0  0]\n",
      " [ 0  0  0  0  0  0  0  0  0  0 13  0  0  0  0  0  0  0  0]\n",
      " [ 0  0  0  0  0  0  0  0  0  0  0 36  0  0  0  0  0  0  0]\n",
      " [ 0  0  0  0  0  0  0  0  0  0  0  0 17  0  0  0  0  0  0]\n",
      " [ 0  0  0  0  0  0  0  0  0  0  0  0  0  9  0  0  0  0  0]\n",
      " [ 0  0  0  0  0  0  0  0  0  0  0  0  0  0 22  0  0  0  0]\n",
      " [ 0  0  0  0  0  0  0  0  0  0  0  0  0  0  0 17  0  0  0]\n",
      " [ 0  0  0  0  0  0  0  0  0  0  0  0  0  0  0  0 30  0  0]\n",
      " [ 0  0  0  0  0  0  0  0  0  0  0  0  0  0  0  0  0 21  0]\n",
      " [ 0  0  0  0  0  0  0  0  0  0  0  0  0  0  0  0  0  0  5]]\n"
     ]
    }
   ],
   "source": [
    "# Call confusion_matrix function from sklearn.metrics using actual y_test and predicted y_test data sets \n",
    "cnf_matrix = confusion_matrix(y_test, y_hat_test)\n",
    "print('Confusion Matrix: \\n', cnf_matrix)"
   ]
  },
  {
   "cell_type": "code",
   "execution_count": 54,
   "metadata": {},
   "outputs": [],
   "source": [
    "scores = logreg.score(X_test, y_test)"
   ]
  },
  {
   "cell_type": "code",
   "execution_count": 55,
   "metadata": {},
   "outputs": [
    {
     "data": {
      "text/plain": [
       "1.0"
      ]
     },
     "execution_count": 55,
     "metadata": {},
     "output_type": "execute_result"
    }
   ],
   "source": [
    "scores"
   ]
  },
  {
   "cell_type": "code",
   "execution_count": 69,
   "metadata": {},
   "outputs": [],
   "source": [
    "from sklearn.metrics import *\n",
    "#import precision_score, recall_score, accuracy_score, f1_score, roc_curve, auc, confusion_matrix"
   ]
  },
  {
   "cell_type": "code",
   "execution_count": 59,
   "metadata": {},
   "outputs": [
    {
     "name": "stdout",
     "output_type": "stream",
     "text": [
      "             precision    recall  f1-score   support\n",
      "\n",
      "          0       1.00      1.00      1.00        15\n",
      "          1       1.00      1.00      1.00        12\n",
      "          2       1.00      1.00      1.00         8\n",
      "          3       1.00      1.00      1.00        12\n",
      "          4       1.00      1.00      1.00        20\n",
      "          5       1.00      1.00      1.00        14\n",
      "          6       1.00      1.00      1.00        12\n",
      "          7       1.00      1.00      1.00        81\n",
      "          8       1.00      1.00      1.00        24\n",
      "          9       1.00      1.00      1.00        30\n",
      "         10       1.00      1.00      1.00        42\n",
      "         11       1.00      1.00      1.00       109\n",
      "         12       1.00      1.00      1.00        70\n",
      "         13       1.00      1.00      1.00        59\n",
      "         14       1.00      1.00      1.00        33\n",
      "         15       1.00      1.00      1.00        41\n",
      "         16       1.00      1.00      1.00       120\n",
      "         17       1.00      1.00      1.00        44\n",
      "         18       1.00      1.00      1.00        10\n",
      "\n",
      "avg / total       1.00      1.00      1.00       756\n",
      "\n"
     ]
    }
   ],
   "source": [
    "print(classification_report(y_train,y_hat_train ))"
   ]
  },
  {
   "cell_type": "code",
   "execution_count": 66,
   "metadata": {},
   "outputs": [
    {
     "data": {
      "image/png": "[encoded data removed]",
      "text/plain": [
       "<matplotlib.figure.Figure at 0x7fb8d6e5d240>"
      ]
     },
     "metadata": {},
     "output_type": "display_data"
    }
   ],
   "source": [
    "plt.figure(figsize=(6, 4))\n",
    "sns.heatmap(cnf_matrix,cmap='coolwarm',linecolor='white',linewidths=1,xticklabels=LABELS, yticklabels=LABELS,\n",
    "annot=True, fmt='d')\n",
    "plt.title('Confusion Matrix')\n",
    "plt.ylabel('True Label')\n",
    "plt.xlabel('Predicted Label')\n",
    "plt.savefig(\"confusion.png\")"
   ]
  },
  {
   "cell_type": "code",
   "execution_count": 81,
   "metadata": {},
   "outputs": [
    {
     "ename": "ValueError",
     "evalue": "multiclass format is not supported",
     "output_type": "error",
     "traceback": [
      "\u001b[0;31m---------------------------------------------------------------------------\u001b[0m",
      "\u001b[0;31mValueError\u001b[0m                                Traceback (most recent call last)",
      "\u001b[0;32m<ipython-input-81-cf99e568594d>\u001b[0m in \u001b[0;36m<module>\u001b[0;34m()\u001b[0m\n\u001b[0;32m----> 1\u001b[0;31m \u001b[0mmetrics\u001b[0m\u001b[0;34m.\u001b[0m\u001b[0mroc_curve\u001b[0m\u001b[0;34m(\u001b[0m\u001b[0my_train\u001b[0m\u001b[0;34m,\u001b[0m \u001b[0my_hat_train\u001b[0m\u001b[0;34m)\u001b[0m\u001b[0;34m\u001b[0m\u001b[0m\n\u001b[0m",
      "\u001b[0;32m/home/arshiyakhan/.local/lib/python3.5/site-packages/sklearn/metrics/ranking.py\u001b[0m in \u001b[0;36mroc_curve\u001b[0;34m(y_true, y_score, pos_label, sample_weight, drop_intermediate)\u001b[0m\n\u001b[1;32m    532\u001b[0m     \"\"\"\n\u001b[1;32m    533\u001b[0m     fps, tps, thresholds = _binary_clf_curve(\n\u001b[0;32m--> 534\u001b[0;31m         y_true, y_score, pos_label=pos_label, sample_weight=sample_weight)\n\u001b[0m\u001b[1;32m    535\u001b[0m \u001b[0;34m\u001b[0m\u001b[0m\n\u001b[1;32m    536\u001b[0m     \u001b[0;31m# Attempt to drop thresholds corresponding to points in between and\u001b[0m\u001b[0;34m\u001b[0m\u001b[0;34m\u001b[0m\u001b[0m\n",
      "\u001b[0;32m/home/arshiyakhan/.local/lib/python3.5/site-packages/sklearn/metrics/ranking.py\u001b[0m in \u001b[0;36m_binary_clf_curve\u001b[0;34m(y_true, y_score, pos_label, sample_weight)\u001b[0m\n\u001b[1;32m    316\u001b[0m     if not (y_type == \"binary\" or\n\u001b[1;32m    317\u001b[0m             (y_type == \"multiclass\" and pos_label is not None)):\n\u001b[0;32m--> 318\u001b[0;31m         \u001b[0;32mraise\u001b[0m \u001b[0mValueError\u001b[0m\u001b[0;34m(\u001b[0m\u001b[0;34m\"{0} format is not supported\"\u001b[0m\u001b[0;34m.\u001b[0m\u001b[0mformat\u001b[0m\u001b[0;34m(\u001b[0m\u001b[0my_type\u001b[0m\u001b[0;34m)\u001b[0m\u001b[0;34m)\u001b[0m\u001b[0;34m\u001b[0m\u001b[0m\n\u001b[0m\u001b[1;32m    319\u001b[0m \u001b[0;34m\u001b[0m\u001b[0m\n\u001b[1;32m    320\u001b[0m     \u001b[0mcheck_consistent_length\u001b[0m\u001b[0;34m(\u001b[0m\u001b[0my_true\u001b[0m\u001b[0;34m,\u001b[0m \u001b[0my_score\u001b[0m\u001b[0;34m,\u001b[0m \u001b[0msample_weight\u001b[0m\u001b[0;34m)\u001b[0m\u001b[0;34m\u001b[0m\u001b[0m\n",
      "\u001b[0;31mValueError\u001b[0m: multiclass format is not supported"
     ]
    }
   ],
   "source": [
    "metrics.roc_curve(y_train, y_hat_train)"
   ]
  },
  {
   "cell_type": "code",
   "execution_count": 68,
   "metadata": {},
   "outputs": [],
   "source": [
    "fpr = dict()\n",
    "tpr = dict()\n",
    "roc_auc = dict()"
   ]
  },
  {
   "cell_type": "code",
   "execution_count": 73,
   "metadata": {},
   "outputs": [],
   "source": [
    "fpr, tpr, thresholds = metrics.roc_curve(y_test, y_hat_test, pos_label=2)"
   ]
  },
  {
   "cell_type": "code",
   "execution_count": 74,
   "metadata": {},
   "outputs": [
    {
     "data": {
      "text/plain": [
       "0.03252032520325199"
      ]
     },
     "execution_count": 74,
     "metadata": {},
     "output_type": "execute_result"
    }
   ],
   "source": [
    "metrics.auc(fpr, tpr)"
   ]
  },
  {
   "cell_type": "code",
   "execution_count": 82,
   "metadata": {},
   "outputs": [
    {
     "ename": "AttributeError",
     "evalue": "module 'sklearn.metrics' has no attribute 'print_metric_comparisons'",
     "output_type": "error",
     "traceback": [
      "\u001b[0;31m---------------------------------------------------------------------------\u001b[0m",
      "\u001b[0;31mAttributeError\u001b[0m                            Traceback (most recent call last)",
      "\u001b[0;32m<ipython-input-82-66e2ff320519>\u001b[0m in \u001b[0;36m<module>\u001b[0;34m()\u001b[0m\n\u001b[0;32m----> 1\u001b[0;31m \u001b[0mmetrics\u001b[0m\u001b[0;34m.\u001b[0m\u001b[0mprint_metric_comparisons\u001b[0m\u001b[0;34m(\u001b[0m\u001b[0mX\u001b[0m\u001b[0;34m,\u001b[0m \u001b[0my\u001b[0m\u001b[0;34m)\u001b[0m\u001b[0;34m\u001b[0m\u001b[0m\n\u001b[0m",
      "\u001b[0;31mAttributeError\u001b[0m: module 'sklearn.metrics' has no attribute 'print_metric_comparisons'"
     ]
    }
   ],
   "source": [
    "metrics.print_metric_comparisons(X, y)"
   ]
  },
  {
   "cell_type": "code",
   "execution_count": 83,
   "metadata": {},
   "outputs": [
    {
     "name": "stdout",
     "output_type": "stream",
     "text": [
      "Accuracy of logistic regression classifier on test set: 1.00\n"
     ]
    }
   ],
   "source": [
    "y_pred = logreg.predict(X_test)\n",
    "print('Accuracy of logistic regression classifier on test set: {:.2f}'.format(logreg.score(X_test, y_test)))"
   ]
  },
  {
   "cell_type": "code",
   "execution_count": 84,
   "metadata": {},
   "outputs": [],
   "source": [
    "from sklearn.metrics import roc_auc_score\n",
    "from sklearn.metrics import roc_curve"
   ]
  },
  {
   "cell_type": "code",
   "execution_count": 85,
   "metadata": {},
   "outputs": [
    {
     "ename": "ValueError",
     "evalue": "multiclass format is not supported",
     "output_type": "error",
     "traceback": [
      "\u001b[0;31m---------------------------------------------------------------------------\u001b[0m",
      "\u001b[0;31mValueError\u001b[0m                                Traceback (most recent call last)",
      "\u001b[0;32m<ipython-input-85-438ac19c3dc4>\u001b[0m in \u001b[0;36m<module>\u001b[0;34m()\u001b[0m\n\u001b[0;32m----> 1\u001b[0;31m \u001b[0mlogit_roc_auc\u001b[0m \u001b[0;34m=\u001b[0m \u001b[0mroc_auc_score\u001b[0m\u001b[0;34m(\u001b[0m\u001b[0my_test\u001b[0m\u001b[0;34m,\u001b[0m \u001b[0mlogreg\u001b[0m\u001b[0;34m.\u001b[0m\u001b[0mpredict\u001b[0m\u001b[0;34m(\u001b[0m\u001b[0mX_test\u001b[0m\u001b[0;34m)\u001b[0m\u001b[0;34m)\u001b[0m\u001b[0;34m\u001b[0m\u001b[0m\n\u001b[0m\u001b[1;32m      2\u001b[0m \u001b[0mfpr\u001b[0m\u001b[0;34m,\u001b[0m \u001b[0mtpr\u001b[0m\u001b[0;34m,\u001b[0m \u001b[0mthresholds\u001b[0m \u001b[0;34m=\u001b[0m \u001b[0mroc_curve\u001b[0m\u001b[0;34m(\u001b[0m\u001b[0my_test\u001b[0m\u001b[0;34m,\u001b[0m \u001b[0mlogreg\u001b[0m\u001b[0;34m.\u001b[0m\u001b[0mpredict_proba\u001b[0m\u001b[0;34m(\u001b[0m\u001b[0mX_test\u001b[0m\u001b[0;34m)\u001b[0m\u001b[0;34m[\u001b[0m\u001b[0;34m:\u001b[0m\u001b[0;34m,\u001b[0m\u001b[0;36m1\u001b[0m\u001b[0;34m]\u001b[0m\u001b[0;34m)\u001b[0m\u001b[0;34m\u001b[0m\u001b[0m\n\u001b[1;32m      3\u001b[0m \u001b[0mplt\u001b[0m\u001b[0;34m.\u001b[0m\u001b[0mfigure\u001b[0m\u001b[0;34m(\u001b[0m\u001b[0;34m)\u001b[0m\u001b[0;34m\u001b[0m\u001b[0m\n\u001b[1;32m      4\u001b[0m \u001b[0mplt\u001b[0m\u001b[0;34m.\u001b[0m\u001b[0mplot\u001b[0m\u001b[0;34m(\u001b[0m\u001b[0mfpr\u001b[0m\u001b[0;34m,\u001b[0m \u001b[0mtpr\u001b[0m\u001b[0;34m,\u001b[0m \u001b[0mlabel\u001b[0m\u001b[0;34m=\u001b[0m\u001b[0;34m'Logistic Regression (area = %0.2f)'\u001b[0m \u001b[0;34m%\u001b[0m \u001b[0mlogit_roc_auc\u001b[0m\u001b[0;34m)\u001b[0m\u001b[0;34m\u001b[0m\u001b[0m\n\u001b[1;32m      5\u001b[0m \u001b[0mplt\u001b[0m\u001b[0;34m.\u001b[0m\u001b[0mplot\u001b[0m\u001b[0;34m(\u001b[0m\u001b[0;34m[\u001b[0m\u001b[0;36m0\u001b[0m\u001b[0;34m,\u001b[0m \u001b[0;36m1\u001b[0m\u001b[0;34m]\u001b[0m\u001b[0;34m,\u001b[0m \u001b[0;34m[\u001b[0m\u001b[0;36m0\u001b[0m\u001b[0;34m,\u001b[0m \u001b[0;36m1\u001b[0m\u001b[0;34m]\u001b[0m\u001b[0;34m,\u001b[0m\u001b[0;34m'r--'\u001b[0m\u001b[0;34m)\u001b[0m\u001b[0;34m\u001b[0m\u001b[0m\n",
      "\u001b[0;32m/home/arshiyakhan/.local/lib/python3.5/site-packages/sklearn/metrics/ranking.py\u001b[0m in \u001b[0;36mroc_auc_score\u001b[0;34m(y_true, y_score, average, sample_weight)\u001b[0m\n\u001b[1;32m    275\u001b[0m     return _average_binary_score(\n\u001b[1;32m    276\u001b[0m         \u001b[0m_binary_roc_auc_score\u001b[0m\u001b[0;34m,\u001b[0m \u001b[0my_true\u001b[0m\u001b[0;34m,\u001b[0m \u001b[0my_score\u001b[0m\u001b[0;34m,\u001b[0m \u001b[0maverage\u001b[0m\u001b[0;34m,\u001b[0m\u001b[0;34m\u001b[0m\u001b[0m\n\u001b[0;32m--> 277\u001b[0;31m         sample_weight=sample_weight)\n\u001b[0m\u001b[1;32m    278\u001b[0m \u001b[0;34m\u001b[0m\u001b[0m\n\u001b[1;32m    279\u001b[0m \u001b[0;34m\u001b[0m\u001b[0m\n",
      "\u001b[0;32m/home/arshiyakhan/.local/lib/python3.5/site-packages/sklearn/metrics/base.py\u001b[0m in \u001b[0;36m_average_binary_score\u001b[0;34m(binary_metric, y_true, y_score, average, sample_weight)\u001b[0m\n\u001b[1;32m     70\u001b[0m     \u001b[0my_type\u001b[0m \u001b[0;34m=\u001b[0m \u001b[0mtype_of_target\u001b[0m\u001b[0;34m(\u001b[0m\u001b[0my_true\u001b[0m\u001b[0;34m)\u001b[0m\u001b[0;34m\u001b[0m\u001b[0m\n\u001b[1;32m     71\u001b[0m     \u001b[0;32mif\u001b[0m \u001b[0my_type\u001b[0m \u001b[0;32mnot\u001b[0m \u001b[0;32min\u001b[0m \u001b[0;34m(\u001b[0m\u001b[0;34m\"binary\"\u001b[0m\u001b[0;34m,\u001b[0m \u001b[0;34m\"multilabel-indicator\"\u001b[0m\u001b[0;34m)\u001b[0m\u001b[0;34m:\u001b[0m\u001b[0;34m\u001b[0m\u001b[0m\n\u001b[0;32m---> 72\u001b[0;31m         \u001b[0;32mraise\u001b[0m \u001b[0mValueError\u001b[0m\u001b[0;34m(\u001b[0m\u001b[0;34m\"{0} format is not supported\"\u001b[0m\u001b[0;34m.\u001b[0m\u001b[0mformat\u001b[0m\u001b[0;34m(\u001b[0m\u001b[0my_type\u001b[0m\u001b[0;34m)\u001b[0m\u001b[0;34m)\u001b[0m\u001b[0;34m\u001b[0m\u001b[0m\n\u001b[0m\u001b[1;32m     73\u001b[0m \u001b[0;34m\u001b[0m\u001b[0m\n\u001b[1;32m     74\u001b[0m     \u001b[0;32mif\u001b[0m \u001b[0my_type\u001b[0m \u001b[0;34m==\u001b[0m \u001b[0;34m\"binary\"\u001b[0m\u001b[0;34m:\u001b[0m\u001b[0;34m\u001b[0m\u001b[0m\n",
      "\u001b[0;31mValueError\u001b[0m: multiclass format is not supported"
     ]
    }
   ],
   "source": [
    "logit_roc_auc = roc_auc_score(y_test, logreg.predict(X_test))\n",
    "fpr, tpr, thresholds = roc_curve(y_test, logreg.predict_proba(X_test)[:,1])\n",
    "plt.figure()\n",
    "plt.plot(fpr, tpr, label='Logistic Regression (area = %0.2f)' % logit_roc_auc)\n",
    "plt.plot([0, 1], [0, 1],'r--')\n",
    "plt.xlim([0.0, 1.0])\n",
    "plt.ylim([0.0, 1.05])\n",
    "plt.xlabel('False Positive Rate')\n",
    "plt.ylabel('True Positive Rate')\n",
    "plt.title('Receiver operating characteristic')\n",
    "plt.legend(loc=\"lower right\")\n",
    "plt.savefig('Log_ROC')\n",
    "plt.show()"
   ]
  },
  {
   "cell_type": "code",
   "execution_count": 86,
   "metadata": {},
   "outputs": [],
   "source": [
    "from math import sqrt\n",
    "from numpy import concatenate\n",
    "from matplotlib import pyplot\n",
    "from pandas import read_csv\n",
    "from pandas import DataFrame\n",
    "from pandas import concat\n",
    "from sklearn.preprocessing import MinMaxScaler\n",
    "from sklearn.preprocessing import LabelEncoder\n",
    "from sklearn.metrics import mean_squared_error\n",
    "from keras.models import Sequential\n",
    "from keras.layers import Dense\n",
    "from keras.layers import LSTM"
   ]
  },
  {
   "cell_type": "code",
   "execution_count": 90,
   "metadata": {},
   "outputs": [],
   "source": [
    "def create_segments_and_labels(x_data, time_steps, step, y_data):\n",
    "    N_FEATURES=185\n",
    "    segments = []\n",
    "    labels=[]\n",
    "    for i in range(0,len(x_data)-time_steps, step):\n",
    "        vs=x_data.values[i:i+time_steps]\n",
    "        #print(vs)\n",
    "        #print(i)\n",
    "        label=stats.mode(y_data[i:i+time_steps])[0][0]\n",
    "        #print(label)\n",
    "        segments.append([vs])\n",
    "#        print(\"label\")\n",
    "        labels.append(label)\n",
    "    reshaped_segments = np.asarray(segments, dtype= np.int64).reshape(-1, time_steps, N_FEATURES)\n",
    "    labels = np.asarray(labels)\n",
    "    return reshaped_segments, labels"
   ]
  },
  {
   "cell_type": "code",
   "execution_count": 100,
   "metadata": {},
   "outputs": [],
   "source": [
    "TIME_PERIODS=10\n",
    "STEP_DISTANCE=5\n",
    "new_X_train,new_Y_train=create_segments_and_labels(X_train,TIME_PERIODS,STEP_DISTANCE,y_train)"
   ]
  },
  {
   "cell_type": "code",
   "execution_count": 101,
   "metadata": {},
   "outputs": [
    {
     "name": "stdout",
     "output_type": "stream",
     "text": [
      "new_X_train shape: (150, 10, 185)\n",
      "new_Y_train shape:  (150,)\n"
     ]
    }
   ],
   "source": [
    "print('new_X_train shape:', new_X_train.shape)\n",
    "print('new_Y_train shape: ', new_Y_train.shape)\n",
    "num_values, num_sensors = new_X_train.shape[1], new_X_train.shape[2]\n",
    "num_classes=len(LABELS)\n",
    "\n",
    "input_shape = (num_values*num_sensors)\n",
    "y_train_hot = np_utils.to_categorical(new_Y_train, num_classes)\n",
    "newest_X_train = new_X_train.reshape(new_X_train.shape[0], input_shape)\n"
   ]
  },
  {
   "cell_type": "code",
   "execution_count": 102,
   "metadata": {},
   "outputs": [
    {
     "name": "stdout",
     "output_type": "stream",
     "text": [
      "new_X_test shape: (49, 10, 185)\n",
      "input_shape: 1850\n",
      "new_Y_test shape:  (49,)\n"
     ]
    }
   ],
   "source": [
    "new_X_test,new_Y_test=create_segments_and_labels(X_test,TIME_PERIODS,STEP_DISTANCE,y_test)\n",
    "print('new_X_test shape:', new_X_test.shape)\n",
    "print('input_shape:', input_shape)\n",
    "print('new_Y_test shape: ', new_Y_test.shape)\n",
    "\n",
    "y_test_hot = np_utils.to_categorical(new_Y_test, num_classes)\n",
    "newest_X_test = new_X_test.reshape(new_X_test.shape[0], input_shape)"
   ]
  },
  {
   "cell_type": "code",
   "execution_count": 114,
   "metadata": {},
   "outputs": [
    {
     "name": "stdout",
     "output_type": "stream",
     "text": [
      "_________________________________________________________________\n",
      "Layer (type)                 Output Shape              Param #   \n",
      "=================================================================\n",
      "reshape_13 (Reshape)         (None, 10, 185)           0         \n",
      "_________________________________________________________________\n",
      "conv1d_19 (Conv1D)           (None, 8, 64)             35584     \n",
      "_________________________________________________________________\n",
      "max_pooling1d_13 (MaxPooling (None, 2, 64)             0         \n",
      "_________________________________________________________________\n",
      "global_average_pooling1d_9 ( (None, 64)                0         \n",
      "_________________________________________________________________\n",
      "dense_9 (Dense)              (None, 19)                1235      \n",
      "=================================================================\n",
      "Total params: 36,819\n",
      "Trainable params: 36,819\n",
      "Non-trainable params: 0\n",
      "_________________________________________________________________\n",
      "None\n",
      "Train on 120 samples, validate on 30 samples\n",
      "Epoch 1/50\n",
      "120/120 [==============================] - 0s - loss: 2.7434 - acc: 0.1667 - val_loss: 2.3571 - val_acc: 0.2000\n",
      "Epoch 2/50\n",
      "120/120 [==============================] - 0s - loss: 2.3643 - acc: 0.2667 - val_loss: 2.3311 - val_acc: 0.2000\n",
      "Epoch 3/50\n",
      "120/120 [==============================] - 0s - loss: 2.2552 - acc: 0.3000 - val_loss: 2.2585 - val_acc: 0.2667\n",
      "Epoch 4/50\n",
      "120/120 [==============================] - 0s - loss: 2.1513 - acc: 0.3083 - val_loss: 2.2294 - val_acc: 0.1667\n",
      "Epoch 5/50\n",
      "120/120 [==============================] - 0s - loss: 2.0883 - acc: 0.2833 - val_loss: 2.1884 - val_acc: 0.2667\n",
      "Epoch 6/50\n",
      "120/120 [==============================] - 0s - loss: 2.0079 - acc: 0.3583 - val_loss: 2.1526 - val_acc: 0.2333\n",
      "Epoch 7/50\n",
      "120/120 [==============================] - 0s - loss: 1.9750 - acc: 0.3333 - val_loss: 2.1517 - val_acc: 0.3000\n",
      "Epoch 8/50\n",
      "120/120 [==============================] - 0s - loss: 1.9212 - acc: 0.4083 - val_loss: 2.2036 - val_acc: 0.2333\n",
      "Epoch 9/50\n",
      "120/120 [==============================] - 0s - loss: 1.8900 - acc: 0.3833 - val_loss: 2.2661 - val_acc: 0.2333\n",
      "Epoch 10/50\n",
      "120/120 [==============================] - 0s - loss: 1.8476 - acc: 0.4000 - val_loss: 2.2342 - val_acc: 0.2333\n",
      "Epoch 11/50\n",
      "120/120 [==============================] - 0s - loss: 1.8040 - acc: 0.4583 - val_loss: 2.2318 - val_acc: 0.2000\n",
      "Epoch 12/50\n",
      "120/120 [==============================] - 0s - loss: 1.7713 - acc: 0.4833 - val_loss: 2.2217 - val_acc: 0.2333\n",
      "Epoch 13/50\n",
      "120/120 [==============================] - 0s - loss: 1.7392 - acc: 0.4417 - val_loss: 2.2763 - val_acc: 0.2000\n",
      "Epoch 14/50\n",
      "120/120 [==============================] - 0s - loss: 1.7193 - acc: 0.4000 - val_loss: 2.2871 - val_acc: 0.2000\n",
      "Epoch 15/50\n",
      "120/120 [==============================] - 0s - loss: 1.6876 - acc: 0.5167 - val_loss: 2.2533 - val_acc: 0.2667\n",
      "Epoch 16/50\n",
      "120/120 [==============================] - 0s - loss: 1.6510 - acc: 0.5667 - val_loss: 2.2855 - val_acc: 0.2000\n",
      "Epoch 17/50\n",
      "120/120 [==============================] - 0s - loss: 1.6347 - acc: 0.4583 - val_loss: 2.3862 - val_acc: 0.2333\n",
      "Epoch 18/50\n",
      "120/120 [==============================] - 0s - loss: 1.5909 - acc: 0.4833 - val_loss: 2.2654 - val_acc: 0.2333\n",
      "Epoch 19/50\n",
      "120/120 [==============================] - 0s - loss: 1.5680 - acc: 0.5833 - val_loss: 2.2621 - val_acc: 0.2667\n",
      "Epoch 20/50\n",
      "120/120 [==============================] - 0s - loss: 1.5181 - acc: 0.5750 - val_loss: 2.3379 - val_acc: 0.2000\n",
      "Epoch 21/50\n",
      "120/120 [==============================] - 0s - loss: 1.4891 - acc: 0.5500 - val_loss: 2.3449 - val_acc: 0.2333\n",
      "Epoch 22/50\n",
      "120/120 [==============================] - 0s - loss: 1.4569 - acc: 0.5917 - val_loss: 2.2833 - val_acc: 0.2667\n",
      "Epoch 23/50\n",
      "120/120 [==============================] - 0s - loss: 1.4250 - acc: 0.6250 - val_loss: 2.3131 - val_acc: 0.2333\n",
      "Epoch 24/50\n",
      "120/120 [==============================] - 0s - loss: 1.3875 - acc: 0.6500 - val_loss: 2.3001 - val_acc: 0.2333\n",
      "Epoch 25/50\n",
      "120/120 [==============================] - 0s - loss: 1.3625 - acc: 0.6500 - val_loss: 2.3166 - val_acc: 0.2333\n",
      "Epoch 26/50\n",
      "120/120 [==============================] - 0s - loss: 1.3323 - acc: 0.6750 - val_loss: 2.3158 - val_acc: 0.2000\n",
      "Epoch 27/50\n",
      "120/120 [==============================] - 0s - loss: 1.3094 - acc: 0.6667 - val_loss: 2.3318 - val_acc: 0.2333\n",
      "Epoch 28/50\n",
      "120/120 [==============================] - 0s - loss: 1.2735 - acc: 0.7000 - val_loss: 2.3278 - val_acc: 0.2333\n",
      "Epoch 29/50\n",
      "120/120 [==============================] - 0s - loss: 1.2412 - acc: 0.7333 - val_loss: 2.3106 - val_acc: 0.2667\n",
      "Epoch 30/50\n",
      "120/120 [==============================] - 0s - loss: 1.2137 - acc: 0.7000 - val_loss: 2.3199 - val_acc: 0.2333\n",
      "Epoch 31/50\n",
      "120/120 [==============================] - 0s - loss: 1.1796 - acc: 0.7000 - val_loss: 2.3358 - val_acc: 0.2000\n",
      "Epoch 32/50\n",
      "120/120 [==============================] - 0s - loss: 1.1564 - acc: 0.7250 - val_loss: 2.3173 - val_acc: 0.2333\n"
     ]
    }
   ],
   "source": [
    "callbacks_list = [\n",
    "    keras.callbacks.ModelCheckpoint(\n",
    "        filepath='showAll_best_model.{epoch:02d}-{val_loss:.2f}.h5',\n",
    "        monitor='val_loss', save_best_only=True),\n",
    "    keras.callbacks.EarlyStopping(monitor='acc', patience=2)]\n",
    "\n",
    "model_m = Sequential()\n",
    "model_m.add(Reshape((TIME_PERIODS, num_sensors), input_shape=(input_shape,)))\n",
    "model_m.add(Conv1D(64, 3, activation='relu', input_shape=(TIME_PERIODS, num_sensors)))\n",
    "#model_m.add(Conv1D(64, 3, activation='relu'))\n",
    "model_m.add(MaxPooling1D(3))\n",
    "#model_m.add(Dropout(0.5))\n",
    "#model.add(Flatten())\n",
    "#model_m.add(Conv1D(100, 5, activation='relu'))\n",
    "#model_m.add(Conv1D(32, 3, activation='relu'))\n",
    "model_m.add(GlobalAveragePooling1D())\n",
    "#model_m.add(Dropout(0.5))\n",
    "model_m.add(Dense(num_classes, activation='softmax'))\n",
    "#model_m.add(Dense(num_classes, activation='sigmoid'))\n",
    "print(model_m.summary())\n",
    "\n",
    "\n",
    "model_m.compile(loss='categorical_crossentropy', optimizer='adam', metrics=['accuracy'])\n",
    "BATCH_SIZE = 20\n",
    "EPOCHS = 50\n",
    "history = model_m.fit(newest_X_train,\n",
    "                      y_train_hot,\n",
    "                      batch_size=BATCH_SIZE,\n",
    "                      epochs=EPOCHS,\n",
    "                      callbacks=callbacks_list,\n",
    "                      validation_split=0.2,\n",
    "                      verbose=1)"
   ]
  },
  {
   "cell_type": "code",
   "execution_count": 110,
   "metadata": {},
   "outputs": [
    {
     "name": "stdout",
     "output_type": "stream",
     "text": [
      "32/49 [==================>...........] - ETA: 0s[2.3056446386843312, 0.28571428997176035]\n",
      "             precision    recall  f1-score   support\n",
      "\n",
      "          0       0.00      0.00      0.00         2\n",
      "          1       0.00      0.00      0.00         2\n",
      "          3       0.00      0.00      0.00         1\n",
      "          4       1.00      0.33      0.50         3\n",
      "          5       0.00      0.00      0.00         1\n",
      "          7       0.83      0.83      0.83        30\n",
      "          8       0.00      0.00      0.00         1\n",
      "          9       0.00      0.00      0.00         2\n",
      "         10       1.00      0.43      0.60         7\n",
      "         11       0.63      0.91      0.74        35\n",
      "         12       0.59      0.81      0.68        16\n",
      "         13       0.85      0.79      0.81        14\n",
      "         14       1.00      0.33      0.50         3\n",
      "         15       0.00      0.00      0.00         3\n",
      "         16       0.75      0.78      0.76        27\n",
      "         17       1.00      0.33      0.50         3\n",
      "\n",
      "avg / total       0.70      0.72      0.68       150\n",
      "\n"
     ]
    },
    {
     "name": "stderr",
     "output_type": "stream",
     "text": [
      "/home/arshiyakhan/.local/lib/python3.5/site-packages/sklearn/metrics/classification.py:1135: UndefinedMetricWarning: Precision and F-score are ill-defined and being set to 0.0 in labels with no predicted samples.\n",
      "  'precision', 'predicted', average, warn_for)\n"
     ]
    }
   ],
   "source": [
    "score = model_m.evaluate(newest_X_test, y_test_hot, verbose=1)\n",
    "print(score)\n",
    "y_pred_train = model_m.predict(newest_X_train)\n",
    "max_y_pred_train = np.argmax(y_pred_train, axis=1)\n",
    "print(classification_report(new_Y_train, max_y_pred_train))\n"
   ]
  },
  {
   "cell_type": "code",
   "execution_count": 111,
   "metadata": {},
   "outputs": [
    {
     "data": {
      "image/png": "[encoded data removed]",
      "text/plain": [
       "<matplotlib.figure.Figure at 0x7fb8dab54b00>"
      ]
     },
     "metadata": {},
     "output_type": "display_data"
    }
   ],
   "source": [
    "plt.figure(figsize=(6, 4))\n",
    "plt.plot(history.history['acc'], color='#D95319', label='Accuracy of training data')\n",
    "plt.plot(history.history['val_acc'], color='#0072BD', label='Accuracy of validation data')\n",
    "plt.plot(history.history['loss'], color='#D95319', linestyle='--', label='Loss of training data')\n",
    "plt.plot(history.history['val_loss'],color='#0072BD', linestyle='--', label='Loss of validation data')\n",
    "plt.title('1D-CNN accuracy trend')\n",
    "plt.ylabel('Accuracy and Loss')\n",
    "plt.xlabel('Training Epoch')\n",
    "plt.ylim(0)\n",
    "#plt.legend()\n",
    "plt.savefig(\"Accuracy_1Dcnn.png\")\n",
    "\n",
    "y_pred_test = model_m.predict(newest_X_test)\n",
    "max_y_pred_test = np.argmax(y_pred_test, axis=1)\n",
    "max_y_test=np.argmax(y_test_hot, axis=1)"
   ]
  },
  {
   "cell_type": "code",
   "execution_count": 112,
   "metadata": {},
   "outputs": [
    {
     "name": "stderr",
     "output_type": "stream",
     "text": [
      "/home/arshiyakhan/.local/lib/python3.5/site-packages/ipykernel_launcher.py:2: RuntimeWarning: invalid value encountered in true_divide\n",
      "  \n"
     ]
    },
    {
     "data": {
      "image/png": "[encoded data removed]",
      "text/plain": [
       "<matplotlib.figure.Figure at 0x7fb8dab546d8>"
      ]
     },
     "metadata": {},
     "output_type": "display_data"
    }
   ],
   "source": [
    "matrix = metrics.confusion_matrix(max_y_test, max_y_pred_test)\n",
    "cmn = matrix.astype('float') / matrix.sum(axis=1)[:, np.newaxis]\n",
    "plt.figure(figsize=(6, 4))\n",
    "sns.heatmap(matrix,cmap='coolwarm',linecolor='white',linewidths=1,xticklabels=LABELS, yticklabels=LABELS,\n",
    "annot=True, fmt='d')\n",
    "plt.title('Confusion Matrix 1DCNN')\n",
    "plt.ylabel('True Label')\n",
    "plt.xlabel('Predicted Label')\n",
    "plt.savefig(\"confusion_1DCNN.png\")"
   ]
  },
  {
   "cell_type": "code",
   "execution_count": null,
   "metadata": {},
   "outputs": [],
   "source": []
  }
 ],
 "metadata": {
  "kernelspec": {
   "display_name": "Python 3",
   "language": "python",
   "name": "python3"
  },
  "language_info": {
   "codemirror_mode": {
    "name": "ipython",
    "version": 3
   },
   "file_extension": ".py",
   "mimetype": "text/x-python",
   "name": "python",
   "nbconvert_exporter": "python",
   "pygments_lexer": "ipython3",
   "version": "3.5.2"
  }
 },
 "nbformat": 4,
 "nbformat_minor": 4
}
